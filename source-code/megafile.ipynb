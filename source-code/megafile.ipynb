{
 "cells": [
  {
   "cell_type": "markdown",
   "metadata": {},
   "source": [
    "## FILE CONCATENATION"
   ]
  },
  {
   "cell_type": "code",
   "execution_count": 33,
   "metadata": {},
   "outputs": [],
   "source": [
    "filename_preamble = \"Lecture \"\n",
    "\n",
    "output_folder = \"_mergedfiles\"\n",
    "\n",
    "basepath = \"src0\"\n",
    "\n",
    "\n",
    "\n",
    "def getHeading(fduple):\n",
    "    fname = fduple[1]\n",
    "    title = \"Lecture \" + extract_number(basepath) + \" -- \" + fname\n",
    "    separator = len(title) * \"*\"\n",
    "\n",
    "    title2 = title + \"\\n\"\n",
    "    separator2 = separator + \"\\n\"\n",
    "\n",
    "    return separator2 + title2 + separator2 + \"\\n\" + \"\\n\"\n",
    "\n",
    "def getFooter():\n",
    "    return 3 * \"\\n\"\n",
    "\n",
    "def extract_number(basepath):\n",
    "    filename = basepath\n",
    "    numberlist = [i for i in filename if i.isdigit()]\n",
    "    return \"\".join(numberlist)\n",
    "\n",
    "def getOutputFileName():\n",
    "    return join(output_folder, filename_preamble + extract_number(basepath) + \".txt\")\n",
    "\n",
    "def sortFilesByDir(fileList):\n",
    "    sortFiles = []\n",
    "    for f in fileList:\n",
    "        path = Path(f)\n",
    "        sortFiles.append((path.parent, f))\n",
    "    return sorted(sortFiles)\n",
    "\n"
   ]
  },
  {
   "cell_type": "code",
   "execution_count": 34,
   "metadata": {},
   "outputs": [],
   "source": [
    "from os import walk, sep\n",
    "from os.path import join, relpath\n",
    "from pathlib import Path\n",
    "\n",
    "excluded = ['.jpg', '.jpeg', '.gif', '.tif', '.tiff', '.png']\n",
    "\n",
    "rejected = False\n",
    "\n",
    "filelist = []\n",
    "\n",
    "for subdir, dirs, files in walk(basepath):\n",
    "    for filename in files:\n",
    "        rejected = False\n",
    "        filepath = subdir + sep + filename\n",
    "        for unwanted in excluded:\n",
    "            if (filepath.lower()).endswith(unwanted):\n",
    "                rejected = True \n",
    "        if rejected:\n",
    "            pass\n",
    "        else:\n",
    "            filelist.append(filepath)\n",
    "\n",
    "filelist2 = []\n",
    "\n",
    "for file in filelist:\n",
    "    relative_path = relpath(file, basepath)\n",
    "    filelist2.append(relative_path)\n",
    "    \n",
    "# filelist3 = sorted(filelist2)\n",
    "\n",
    "filelist3 = sortFilesByDir(filelist2)\n",
    "\n",
    "# for file in filelist3:\n",
    "#      print(file[1])"
   ]
  },
  {
   "cell_type": "code",
   "execution_count": 35,
   "metadata": {},
   "outputs": [
    {
     "name": "stdout",
     "output_type": "stream",
     "text": [
      "(PosixPath('.'), 'border.html')\n",
      "(PosixPath('.'), 'class.html')\n",
      "(PosixPath('.'), 'div_span.html')\n",
      "(PosixPath('.'), 'font.html')\n",
      "(PosixPath('.'), 'form.html')\n",
      "(PosixPath('.'), 'headings.html')\n",
      "(PosixPath('.'), 'hello.html')\n",
      "(PosixPath('.'), 'id.html')\n",
      "(PosixPath('.'), 'image0.html')\n",
      "(PosixPath('.'), 'image1.html')\n",
      "(PosixPath('.'), 'link.html')\n",
      "(PosixPath('.'), 'lists.html')\n",
      "(PosixPath('.'), 'size.html')\n",
      "(PosixPath('.'), 'style0.html')\n",
      "(PosixPath('.'), 'style1.html')\n",
      "(PosixPath('.'), 'style2.html')\n",
      "(PosixPath('.'), 'styles.css')\n",
      "(PosixPath('.'), 'table.html')\n"
     ]
    }
   ],
   "source": [
    "for filename in filelist3:\n",
    "    print(filename)\n"
   ]
  },
  {
   "cell_type": "code",
   "execution_count": 36,
   "metadata": {},
   "outputs": [
    {
     "name": "stdout",
     "output_type": "stream",
     "text": [
      "(PosixPath('.'), 'border.html')\n",
      "(PosixPath('.'), 'class.html')\n",
      "(PosixPath('.'), 'div_span.html')\n",
      "(PosixPath('.'), 'font.html')\n",
      "(PosixPath('.'), 'form.html')\n",
      "(PosixPath('.'), 'headings.html')\n",
      "(PosixPath('.'), 'hello.html')\n",
      "(PosixPath('.'), 'id.html')\n",
      "(PosixPath('.'), 'image0.html')\n",
      "(PosixPath('.'), 'image1.html')\n",
      "(PosixPath('.'), 'link.html')\n",
      "(PosixPath('.'), 'lists.html')\n",
      "(PosixPath('.'), 'size.html')\n",
      "(PosixPath('.'), 'style0.html')\n",
      "(PosixPath('.'), 'style1.html')\n",
      "(PosixPath('.'), 'style2.html')\n",
      "(PosixPath('.'), 'styles.css')\n",
      "(PosixPath('.'), 'table.html')\n"
     ]
    }
   ],
   "source": [
    "filenames = filelist3\n",
    "outputFileName = getOutputFileName()\n",
    "with open(outputFileName, 'w') as outfile:\n",
    "    for fduple in filenames:\n",
    "        print(fduple) # FOR DIAGNOSTIC PURPOSES\n",
    "        fname = fduple[1]\n",
    "        footer = getFooter()\n",
    "        with open(join(basepath, fname)) as infile:\n",
    "            heading = getHeading(fduple)\n",
    "#             print(heading)\n",
    "#             print(infile.read())\n",
    "#             print(footer)\n",
    "            outfile.write(heading)\n",
    "            outfile.write(infile.read())\n",
    "            outfile.write(footer)"
   ]
  },
  {
   "cell_type": "code",
   "execution_count": null,
   "metadata": {},
   "outputs": [],
   "source": []
  },
  {
   "cell_type": "code",
   "execution_count": null,
   "metadata": {},
   "outputs": [],
   "source": []
  },
  {
   "cell_type": "code",
   "execution_count": null,
   "metadata": {},
   "outputs": [],
   "source": []
  },
  {
   "cell_type": "code",
   "execution_count": null,
   "metadata": {},
   "outputs": [],
   "source": []
  },
  {
   "cell_type": "markdown",
   "metadata": {},
   "source": [
    "## TO DO: ORGANIZE CODE SO IT STARTS WITH ONE PARAMETER"
   ]
  },
  {
   "cell_type": "markdown",
   "metadata": {},
   "source": [
    "**Actually, what I mean is use main() and have default values**"
   ]
  },
  {
   "cell_type": "markdown",
   "metadata": {},
   "source": [
    "**I've managed to use __main__, but it's not clear how to deal with default values.**"
   ]
  },
  {
   "cell_type": "code",
   "execution_count": 65,
   "metadata": {},
   "outputs": [],
   "source": [
    "from os import walk, sep\n",
    "from os.path import join, relpath\n",
    "from pathlib import Path\n",
    "\n",
    "filename_preamble = \"Lecture \"\n",
    "output_folder = \"_mergedfiles\"\n",
    "\n",
    "\n",
    "def do_program(basepath):\n",
    "    excluded = ['.jpg', '.jpeg', '.gif', '.tif', '.tiff', '.png', '.sqlite3', '.db']\n",
    "    rejected = False\n",
    "    filelist = []\n",
    "    filelist2 = []\n",
    "    filelist3 = []\n",
    "    filename = []\n",
    "    output_folder = \"_mergedfiles\"\n",
    "    for subdir, dirs, files in walk(basepath):\n",
    "        for filename in files:\n",
    "            rejected = False\n",
    "            filepath = subdir + sep + filename\n",
    "            for unwanted in excluded:\n",
    "                if (filepath.lower()).endswith(unwanted):\n",
    "                    rejected = True \n",
    "            if rejected:\n",
    "                pass\n",
    "            else:\n",
    "                filelist.append(filepath)\n",
    "\n",
    "    for file in filelist:\n",
    "        relative_path = relpath(file, basepath)\n",
    "        filelist2.append(relative_path)\n",
    "\n",
    "    filelist3 = sortFilesByDir(filelist2)\n",
    "\n",
    "    filenames = filelist3\n",
    "    outputFileName = getOutputFileName(basepath)\n",
    "    with open(outputFileName, 'w') as outfile:\n",
    "        for fduple in filenames:\n",
    "            fname = fduple[1]\n",
    "            footer = getFooter()\n",
    "            with open(join(basepath, fname)) as infile:\n",
    "                heading = getHeading(fduple,basepath)\n",
    "                outfile.write(heading)\n",
    "                outfile.write(infile.read())\n",
    "                outfile.write(footer)\n",
    "\n",
    "                \n",
    "def getHeading(fduple,basepath):\n",
    "    fname = fduple[1]\n",
    "    title = \"Lecture \" + extract_number(basepath) + \" -- \" + fname\n",
    "    separator = len(title) * \"*\"\n",
    "\n",
    "    title2 = title + \"\\n\"\n",
    "    separator2 = separator + \"\\n\"\n",
    "\n",
    "    return separator2 + title2 + separator2 + \"\\n\" + \"\\n\"\n",
    "\n",
    "\n",
    "def getFooter():\n",
    "    return 3 * \"\\n\"\n",
    "\n",
    "\n",
    "def extract_number(basepath):\n",
    "    filename = basepath\n",
    "    numberlist = [i for i in filename if i.isdigit()]\n",
    "    return \"\".join(numberlist)\n",
    "\n",
    "\n",
    "def getOutputFileName(basepath):\n",
    "    output_folder = \"_mergedfiles\"\n",
    "    return join(output_folder, filename_preamble + extract_number(basepath) + \".txt\")\n",
    "\n",
    "\n",
    "def sortFilesByDir(fileList):\n",
    "    sortFiles = []\n",
    "    for f in fileList:\n",
    "        path = Path(f)\n",
    "        sortFiles.append((path.parent, f))\n",
    "    return sorted(sortFiles)\n",
    "\n",
    "\n",
    "\n"
   ]
  },
  {
   "cell_type": "code",
   "execution_count": 67,
   "metadata": {},
   "outputs": [],
   "source": [
    "file_numbers = [0,1,2,3,4,5,6,7,8,11]"
   ]
  },
  {
   "cell_type": "code",
   "execution_count": 68,
   "metadata": {},
   "outputs": [
    {
     "name": "stdout",
     "output_type": "stream",
     "text": [
      "src0\n",
      "src1\n",
      "src2\n",
      "src3\n",
      "src4\n",
      "src5\n",
      "src6\n",
      "src7\n",
      "src8\n",
      "src11\n"
     ]
    }
   ],
   "source": [
    "for f in file_numbers:\n",
    "    base = \"src\" + str(f)\n",
    "    print(base)\n",
    "    do_program(base)"
   ]
  },
  {
   "cell_type": "code",
   "execution_count": null,
   "metadata": {},
   "outputs": [],
   "source": []
  },
  {
   "cell_type": "markdown",
   "metadata": {},
   "source": [
    "## NEXT STEPS: INDICATE WHEN A FILE HAS BEEN SKIPPED (BECAUSE ITS FORMAT IS UNPRINTABLE)"
   ]
  },
  {
   "cell_type": "code",
   "execution_count": null,
   "metadata": {},
   "outputs": [],
   "source": []
  }
 ],
 "metadata": {
  "kernelspec": {
   "display_name": "Python 3",
   "language": "python",
   "name": "python3"
  },
  "language_info": {
   "codemirror_mode": {
    "name": "ipython",
    "version": 3
   },
   "file_extension": ".py",
   "mimetype": "text/x-python",
   "name": "python",
   "nbconvert_exporter": "python",
   "pygments_lexer": "ipython3",
   "version": "3.6.9"
  }
 },
 "nbformat": 4,
 "nbformat_minor": 4
}
